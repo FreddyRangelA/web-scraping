{
 "cells": [
  {
   "cell_type": "code",
   "execution_count": 1,
   "metadata": {},
   "outputs": [],
   "source": [
    "from selenium import webdriver\n",
    "from bs4 import BeautifulSoup as bs\n",
    "import time\n",
    "from webdriver_manager.chrome import ChromeDriverManager\n",
    "import pandas as pd"
   ]
  },
  {
   "cell_type": "code",
   "execution_count": 2,
   "metadata": {},
   "outputs": [
    {
     "name": "stderr",
     "output_type": "stream",
     "text": [
      "[WDM] - ====== WebDriver manager ======\n",
      "[WDM] - Current google-chrome version is 89.0.4389\n",
      "[WDM] - Get LATEST driver version for 89.0.4389\n"
     ]
    },
    {
     "name": "stdout",
     "output_type": "stream",
     "text": [
      "\n",
      "\n"
     ]
    },
    {
     "name": "stderr",
     "output_type": "stream",
     "text": [
      "[WDM] - Driver [C:\\Users\\fredd\\.wdm\\drivers\\chromedriver\\win32\\89.0.4389.23\\chromedriver.exe] found in cache\n"
     ]
    }
   ],
   "source": [
    "\n",
    "    driver = webdriver.Chrome(ChromeDriverManager().install())\n",
    "    url=\"https://mars.nasa.gov/news/?page=0&per_page=40&order=publish_date+desc%2Ccreated_at+desc&search=&category=19%2C165%2C184%2C204&blank_scope=Latest\"\n",
    "    driver.get(url)"
   ]
  },
  {
   "cell_type": "code",
   "execution_count": 3,
   "metadata": {},
   "outputs": [],
   "source": [
    "html= driver.page_source\n",
    "soup=bs(html,\"lxml\")"
   ]
  },
  {
   "cell_type": "code",
   "execution_count": 4,
   "metadata": {
    "collapsed": true,
    "jupyter": {
     "outputs_hidden": true
    }
   },
   "outputs": [
    {
     "data": {
      "text/plain": [
       "<ul class=\"item_list\"><li class=\"slide\"><div class=\"image_and_description_container\"><a href=\"/news/8928/nasas-ingenuity-mars-helicopter-logs-second-successful-flight/\" target=\"_self\"><div class=\"rollover_description\"><div class=\"rollover_description_inner\">The small rotorcraft’s horizons were expanded on its second flight. </div><div class=\"overlay_arrow\"><img alt=\"More\" src=\"/assets/overlay-arrow.png\"/></div></div><div class=\"list_image\"><img alt=\"Ingenuity's Second Flight As Seen by Perseverance:\" src=\"/system/news_items/list_view_images/8928_Mars_Perseverance_ZL0_0058_0672089556_654ECV_N0032046ZCAM05032_110050J-320x240.jpg\"/></div><div class=\"bottom_gradient\"><div><h3>NASA's Ingenuity Mars Helicopter Logs Second Successful Flight</h3></div></div></a><div class=\"list_text\"><div class=\"list_date\">April 22, 2021</div><div class=\"content_title\"><a href=\"/news/8928/nasas-ingenuity-mars-helicopter-logs-second-successful-flight/\" target=\"_self\">NASA's Ingenuity Mars Helicopter Logs Second Successful Flight</a></div><div class=\"article_teaser_body\">The small rotorcraft’s horizons were expanded on its second flight. </div></div></div></li><li class=\"slide\"><div class=\"image_and_description_container\"><a href=\"/news/8926/nasas-perseverance-mars-rover-extracts-first-oxygen-from-red-planet/\" target=\"_self\"><div class=\"rollover_description\"><div class=\"rollover_description_inner\">The milestone, which the MOXIE instrument achieved by converting carbon dioxide into oxygen, points the way to future human exploration of the Red Planet. </div><div class=\"overlay_arrow\"><img alt=\"More\" src=\"/assets/overlay-arrow.png\"/></div></div><div class=\"list_image\"><img alt=\"Technicians at NASA’s Jet Propulsion Laboratory lower the Mars Oxygen In-Situ Resource Utilization Experiment (MOXIE) instrument into the belly of the Perseverance rover. \" src=\"/system/news_items/list_view_images/8926_25288_MOXIE_lowered_320.jpg\"/></div><div class=\"bottom_gradient\"><div><h3>NASA's Perseverance Mars Rover Extracts First Oxygen From Red Planet</h3></div></div></a><div class=\"list_text\"><div class=\"list_date\">April 21, 2021</div><div class=\"content_title\"><a href=\"/news/8926/nasas-perseverance-mars-rover-extracts-first-oxygen-from-red-planet/\" target=\"_self\">NASA's Perseverance Mars Rover Extracts First Oxygen From Red Planet</a></div><div class=\"article_teaser_body\">The milestone, which the MOXIE instrument achieved by converting carbon dioxide into oxygen, points the way to future human exploration of the Red Planet. </div></div></div></li><li class=\"slide\"><div class=\"image_and_description_container\"><a href=\"/news/8923/nasas-ingenuity-mars-helicopter-succeeds-in-historic-first-flight/\" target=\"_self\"><div class=\"rollover_description\"><div class=\"rollover_description_inner\">The small rotorcraft made history, hovering above Jezero Crater, demonstrating that powered, controlled flight on another planet is possible.</div><div class=\"overlay_arrow\"><img alt=\"More\" src=\"/assets/overlay-arrow.png\"/></div></div><div class=\"list_image\"><img alt=\"NASA’s Ingenuity Mars Helicopter took this shot while hovering over the Martian surface on April 19, 2021, during the first instance of powered, controlled flight on another planet. It used its navigation camera, which autonomously tracks the ground during flight.\" src=\"/system/news_items/list_view_images/8923_25818_3-PIA24584-320x240.jpg\"/></div><div class=\"bottom_gradient\"><div><h3>NASA's Ingenuity Mars Helicopter Succeeds in Historic First Flight</h3></div></div></a><div class=\"list_text\"><div class=\"list_date\">April 19, 2021</div><div class=\"content_title\"><a href=\"/news/8923/nasas-ingenuity-mars-helicopter-succeeds-in-historic-first-flight/\" target=\"_self\">NASA's Ingenuity Mars Helicopter Succeeds in Historic First Flight</a></div><div class=\"article_teaser_body\">The small rotorcraft made history, hovering above Jezero Crater, demonstrating that powered, controlled flight on another planet is possible.</div></div></div></li><li class=\"slide\"><div class=\"image_and_description_container\"><a href=\"/news/8919/nasa-to-attempt-first-controlled-flight-on-mars-as-soon-as-monday/\" target=\"_self\"><div class=\"rollover_description\"><div class=\"rollover_description_inner\">A livestream will begin at 3:15 a.m. PDT that morning as the helicopter team prepares to receive the data downlink at NASA’s Jet Propulsion Laboratory.</div><div class=\"overlay_arrow\"><img alt=\"More\" src=\"/assets/overlay-arrow.png\"/></div></div><div class=\"list_image\"><img alt=\"Mars Helicopter’s blades can be seen in this video performing a wiggle test\" src=\"/system/news_items/list_view_images/8919_PIA24549-320.gif\"/></div><div class=\"bottom_gradient\"><div><h3>NASA to Attempt First Controlled Flight on Mars As Soon As Monday</h3></div></div></a><div class=\"list_text\"><div class=\"list_date\">April 17, 2021</div><div class=\"content_title\"><a href=\"/news/8919/nasa-to-attempt-first-controlled-flight-on-mars-as-soon-as-monday/\" target=\"_self\">NASA to Attempt First Controlled Flight on Mars As Soon As Monday</a></div><div class=\"article_teaser_body\">A livestream will begin at 3:15 a.m. PDT that morning as the helicopter team prepares to receive the data downlink at NASA’s Jet Propulsion Laboratory.</div></div></div></li><li class=\"slide\"><div class=\"image_and_description_container\"><a href=\"/news/8915/nasas-mars-helicopter-to-make-first-flight-attempt/\" target=\"_self\"><div class=\"rollover_description\"><div class=\"rollover_description_inner\">The small rotorcraft’s “Wright brothers moment” is two Mars days away.</div><div class=\"overlay_arrow\"><img alt=\"More\" src=\"/assets/overlay-arrow.png\"/></div></div><div class=\"list_image\"><img alt=\"NASA’s Ingenuity helicopter unlocked its blades, allowing them to spin freely, on April 7, 2021, the 47th Martian day, or sol, of the mission. This image was captured by the Mastcam-Z imager aboard NASA’s Perseverance Mars rover on the following sol, April 8, 2021. \" src=\"/system/news_items/list_view_images/8915_PIA24581-320x240.jpg\"/></div><div class=\"bottom_gradient\"><div><h3>NASA's Mars Helicopter to Make First Flight Attempt</h3></div></div></a><div class=\"list_text\"><div class=\"list_date\">April  9, 2021</div><div class=\"content_title\"><a href=\"/news/8915/nasas-mars-helicopter-to-make-first-flight-attempt/\" target=\"_self\">NASA's Mars Helicopter to Make First Flight Attempt</a></div><div class=\"article_teaser_body\">The small rotorcraft’s “Wright brothers moment” is two Mars days away.</div></div></div></li><li class=\"slide\"><div class=\"image_and_description_container\"><a href=\"/news/8914/webinars-taking-flight-how-girls-can-grow-up-to-be-engineers/\" target=\"_self\"><div class=\"rollover_description\"><div class=\"rollover_description_inner\">Do you like solving problems, working with other people, and making a difference? Consider a career in engineering!</div><div class=\"overlay_arrow\"><img alt=\"More\" src=\"/assets/overlay-arrow.png\"/></div></div><div class=\"list_image\"><img alt=\"An illustration of NASA’s Ingenuity Helicopter flying on Mars\" src=\"/system/news_items/list_view_images/8914_PIA24466_Mars_Helicopter-320.jpg\"/></div><div class=\"bottom_gradient\"><div><h3>Webinars--Taking Flight: How Girls Can Grow up to Be Engineers </h3></div></div></a><div class=\"list_text\"><div class=\"list_date\">April  8, 2021</div><div class=\"content_title\"><a href=\"/news/8914/webinars-taking-flight-how-girls-can-grow-up-to-be-engineers/\" target=\"_self\">Webinars--Taking Flight: How Girls Can Grow up to Be Engineers </a></div><div class=\"article_teaser_body\">Do you like solving problems, working with other people, and making a difference? Consider a career in engineering!</div></div></div></li><li class=\"slide\"><div class=\"image_and_description_container\"><a href=\"/news/8912/say-cheese-on-mars-perseverances-selfie-with-ingenuity/\" target=\"_self\"><div class=\"rollover_description\"><div class=\"rollover_description_inner\">NASA’s newest Mars rover used a camera on the end of its robotic arm to snap this shot of itself with the Ingenuity helicopter nearby.</div><div class=\"overlay_arrow\"><img alt=\"More\" src=\"/assets/overlay-arrow.png\"/></div></div><div class=\"list_image\"><img alt=\"NASA’s Perseverance Mars rover took a selfie with the Ingenuity helicopter, seen here about 13 feet (3.9 meters) from the rover. This image was taken by the WASTON camera on the rover’s robotic arm on April 6, 2021, the 46th Martian day, or sol, of the mission. \" src=\"/system/news_items/list_view_images/8912_25790_First_selfie-320.gif\"/></div><div class=\"bottom_gradient\"><div><h3>Say Cheese on Mars: Perseverance's Selfie With Ingenuity</h3></div></div></a><div class=\"list_text\"><div class=\"list_date\">April  7, 2021</div><div class=\"content_title\"><a href=\"/news/8912/say-cheese-on-mars-perseverances-selfie-with-ingenuity/\" target=\"_self\">Say Cheese on Mars: Perseverance's Selfie With Ingenuity</a></div><div class=\"article_teaser_body\">NASA’s newest Mars rover used a camera on the end of its robotic arm to snap this shot of itself with the Ingenuity helicopter nearby.</div></div></div></li><li class=\"slide\"><div class=\"image_and_description_container\"><a href=\"/news/8911/nasas-odyssey-orbiter-marks-20-historic-years-of-mapping-mars/\" target=\"_self\"><div class=\"rollover_description\"><div class=\"rollover_description_inner\">For two decades, the longest-lived spacecraft at the Red Planet has helped locate water ice, assess landing sites, and study the planet’s mysterious moons.\n",
       "</div><div class=\"overlay_arrow\"><img alt=\"More\" src=\"/assets/overlay-arrow.png\"/></div></div><div class=\"list_image\"><img alt=\"3D model of NASA’s Odyssey orbiter\" src=\"/system/news_items/list_view_images/8911_1b-odyssey-model-in-Eyes-320.jpg\"/></div><div class=\"bottom_gradient\"><div><h3>NASA's Odyssey Orbiter Marks 20 Historic Years of Mapping Mars </h3></div></div></a><div class=\"list_text\"><div class=\"list_date\">April  7, 2021</div><div class=\"content_title\"><a href=\"/news/8911/nasas-odyssey-orbiter-marks-20-historic-years-of-mapping-mars/\" target=\"_self\">NASA's Odyssey Orbiter Marks 20 Historic Years of Mapping Mars </a></div><div class=\"article_teaser_body\">For two decades, the longest-lived spacecraft at the Red Planet has helped locate water ice, assess landing sites, and study the planet’s mysterious moons.\n",
       "</div></div></div></li><li class=\"slide\"><div class=\"image_and_description_container\"><a href=\"/news/8910/nasa-invites-public-to-take-flight-with-ingenuity-mars-helicopter/\" target=\"_self\"><div class=\"rollover_description\"><div class=\"rollover_description_inner\">The helicopter is scheduled to lift off close to the end of the day on April 11.</div><div class=\"overlay_arrow\"><img alt=\"More\" src=\"/assets/overlay-arrow.png\"/></div></div><div class=\"list_image\"><img alt=\"NASA’s Ingenuity Mars helicopter is seen here in a close-up taken by Mastcam-Z, a pair of zoomable cameras aboard the Perseverance rover.\" src=\"/system/news_items/list_view_images/8910_1-PIA24547-Mastcam-Z-Gives-Ingenuity-a-Close-up-320x240.jpg\"/></div><div class=\"bottom_gradient\"><div><h3>NASA Invites Public to Take Flight With Ingenuity Mars Helicopter </h3></div></div></a><div class=\"list_text\"><div class=\"list_date\">April  6, 2021</div><div class=\"content_title\"><a href=\"/news/8910/nasa-invites-public-to-take-flight-with-ingenuity-mars-helicopter/\" target=\"_self\">NASA Invites Public to Take Flight With Ingenuity Mars Helicopter </a></div><div class=\"article_teaser_body\">The helicopter is scheduled to lift off close to the end of the day on April 11.</div></div></div></li><li class=\"slide\"><div class=\"image_and_description_container\"><a href=\"/news/8909/nasas-first-weather-report-from-jezero-crater-on-mars/\" target=\"_self\"><div class=\"rollover_description\"><div class=\"rollover_description_inner\">Perseverance’s MEDA will help us understand how to prepare astronauts for a future on the Red Planet.</div><div class=\"overlay_arrow\"><img alt=\"More\" src=\"/assets/overlay-arrow.png\"/></div></div><div class=\"list_image\"><img alt=\"A pre-launch photo of the Mars Environmental Dynamics Analyzer (MEDA) system, which is now providing atmospheric measurements to engineers from Jezero Crater on Mars. \" src=\"/system/news_items/list_view_images/8909_25283_MEDA_booms_320.jpeg\"/></div><div class=\"bottom_gradient\"><div><h3>NASA's First Weather Report From Jezero Crater on Mars</h3></div></div></a><div class=\"list_text\"><div class=\"list_date\">April  6, 2021</div><div class=\"content_title\"><a href=\"/news/8909/nasas-first-weather-report-from-jezero-crater-on-mars/\" target=\"_self\">NASA's First Weather Report From Jezero Crater on Mars</a></div><div class=\"article_teaser_body\">Perseverance’s MEDA will help us understand how to prepare astronauts for a future on the Red Planet.</div></div></div></li><li class=\"slide\"><div class=\"image_and_description_container\"><a href=\"/news/8907/nasas-curiosity-team-names-martian-hill-that-serves-as-mission-gateway/\" target=\"_self\"><div class=\"rollover_description\"><div class=\"rollover_description_inner\">The name honors recently deceased mission scientist Rafael Navarro-González, who helped lead the team that identified ancient organic compounds on Mars</div><div class=\"overlay_arrow\"><img alt=\"More\" src=\"/assets/overlay-arrow.png\"/></div></div><div class=\"list_image\"><img alt=\"Rafael Navarro Mountain on Mars  \" src=\"/system/news_items/list_view_images/8907_PIA24544-320.jpg\"/></div><div class=\"bottom_gradient\"><div><h3>NASA's Curiosity Team Names Martian Hill That Serves as Mission ‘Gateway'</h3></div></div></a><div class=\"list_text\"><div class=\"list_date\">April  5, 2021</div><div class=\"content_title\"><a href=\"/news/8907/nasas-curiosity-team-names-martian-hill-that-serves-as-mission-gateway/\" target=\"_self\">NASA's Curiosity Team Names Martian Hill That Serves as Mission ‘Gateway'</a></div><div class=\"article_teaser_body\">The name honors recently deceased mission scientist Rafael Navarro-González, who helped lead the team that identified ancient organic compounds on Mars</div></div></div></li><li class=\"slide\"><div class=\"image_and_description_container\"><a href=\"/news/8906/nasas-mars-helicopter-survives-first-cold-martian-night-on-its-own/\" target=\"_self\"><div class=\"rollover_description\"><div class=\"rollover_description_inner\">NASA’s Ingenuity helicopter can be seen on Mars as viewed by the Perseverance rover’s rear Hazard Camera on April 4, 2021, the 44th Martian day, or sol of the mission.</div><div class=\"overlay_arrow\"><img alt=\"More\" src=\"/assets/overlay-arrow.png\"/></div></div><div class=\"list_image\"><img alt=\"NASA’s Ingenuity helicopter can be seen on Mars as viewed by the Perseverance rover’s rear Hazard Camera on April 4, 2021, the 44th Martian day, or sol of the mission.\" src=\"/system/news_items/list_view_images/8906_1-PIA24541-320x240.jpg\"/></div><div class=\"bottom_gradient\"><div><h3>NASA's Mars Helicopter Survives First Cold Martian Night on Its Own</h3></div></div></a><div class=\"list_text\"><div class=\"list_date\">April  5, 2021</div><div class=\"content_title\"><a href=\"/news/8906/nasas-mars-helicopter-survives-first-cold-martian-night-on-its-own/\" target=\"_self\">NASA's Mars Helicopter Survives First Cold Martian Night on Its Own</a></div><div class=\"article_teaser_body\">NASA’s Ingenuity helicopter can be seen on Mars as viewed by the Perseverance rover’s rear Hazard Camera on April 4, 2021, the 44th Martian day, or sol of the mission.</div></div></div></li><li class=\"slide\"><div class=\"image_and_description_container\"><a href=\"/news/8904/nasas-insight-detects-two-sizable-quakes-on-mars/\" target=\"_self\"><div class=\"rollover_description\"><div class=\"rollover_description_inner\">The magnitude 3.3 and 3.1 temblors originated in a region called Cerberus Fossae, further supporting the idea that this location is seismically active.</div><div class=\"overlay_arrow\"><img alt=\"More\" src=\"/assets/overlay-arrow.png\"/></div></div><div class=\"list_image\"><img alt=\"InSight lander using a scoop on its robotic arm to begin trickling soil over the cable connecting its seismometer to the spacecraft \" src=\"/system/news_items/list_view_images/8904_PIA24450-320.gif\"/></div><div class=\"bottom_gradient\"><div><h3>NASA's InSight Detects Two Sizable Quakes on Mars</h3></div></div></a><div class=\"list_text\"><div class=\"list_date\">April  1, 2021</div><div class=\"content_title\"><a href=\"/news/8904/nasas-insight-detects-two-sizable-quakes-on-mars/\" target=\"_self\">NASA's InSight Detects Two Sizable Quakes on Mars</a></div><div class=\"article_teaser_body\">The magnitude 3.3 and 3.1 temblors originated in a region called Cerberus Fossae, further supporting the idea that this location is seismically active.</div></div></div></li><li class=\"slide\"><div class=\"image_and_description_container\"><a href=\"/news/8903/sensors-collect-crucial-data-on-mars-landings-with-arrival-of-perseverance/\" target=\"_self\"><div class=\"rollover_description\"><div class=\"rollover_description_inner\">MEDLI2 was one of the crucial technologies onboard the rover’s protective aeroshell that helped document the entry, descent, and landing of the spacecraft. </div><div class=\"overlay_arrow\"><img alt=\"More\" src=\"/assets/overlay-arrow.png\"/></div></div><div class=\"list_image\"><img alt=\"The Mars 2020 spacecraft’s heat shield falls away as the aeroshell descends to Mars on Feb. 18, 2021. \" src=\"/system/news_items/list_view_images/8903_medli2-on-heat-shield-320.jpg\"/></div><div class=\"bottom_gradient\"><div><h3>Sensors Collect Crucial Data on Mars Landings With Arrival of Perseverance </h3></div></div></a><div class=\"list_text\"><div class=\"list_date\">April  1, 2021</div><div class=\"content_title\"><a href=\"/news/8903/sensors-collect-crucial-data-on-mars-landings-with-arrival-of-perseverance/\" target=\"_self\">Sensors Collect Crucial Data on Mars Landings With Arrival of Perseverance </a></div><div class=\"article_teaser_body\">MEDLI2 was one of the crucial technologies onboard the rover’s protective aeroshell that helped document the entry, descent, and landing of the spacecraft. </div></div></div></li><li class=\"slide\"><div class=\"image_and_description_container\"><a href=\"/news/8901/nasas-curiosity-mars-rover-takes-selfie-with-mont-mercou/\" target=\"_self\"><div class=\"rollover_description\"><div class=\"rollover_description_inner\">The rover also snapped a pair of panoramas to create a 3D view of the stark cliff face featured in the selfie.</div><div class=\"overlay_arrow\"><img alt=\"More\" src=\"/assets/overlay-arrow.png\"/></div></div><div class=\"list_image\"><img alt=\"NASA’s Curiosity Mars rover used two cameras to create this selfie in front of Mont Mercou, a rock outcrop that stands 20 feet (6 meters) tall.\" src=\"/system/news_items/list_view_images/8901_1-PIA24543-Curiosity's-Selfie-at-Mont-Mercou-main-320x240.jpg\"/></div><div class=\"bottom_gradient\"><div><h3>NASA's Curiosity Mars Rover Takes Selfie With 'Mont Mercou'</h3></div></div></a><div class=\"list_text\"><div class=\"list_date\">March 30, 2021</div><div class=\"content_title\"><a href=\"/news/8901/nasas-curiosity-mars-rover-takes-selfie-with-mont-mercou/\" target=\"_self\">NASA's Curiosity Mars Rover Takes Selfie With 'Mont Mercou'</a></div><div class=\"article_teaser_body\">The rover also snapped a pair of panoramas to create a 3D view of the stark cliff face featured in the selfie.</div></div></div></li><li class=\"slide\"><div class=\"image_and_description_container\"><a href=\"/news/8896/nasa-ingenuity-mars-helicopter-prepares-for-first-flight/\" target=\"_self\"><div class=\"rollover_description\"><div class=\"rollover_description_inner\">Now uncocooned from its protective carbon-fiber shield, the helicopter is being readied for its next steps.  </div><div class=\"overlay_arrow\"><img alt=\"More\" src=\"/assets/overlay-arrow.png\"/></div></div><div class=\"list_image\"><img alt=\"An illustration of NASA’s Ingenuity Helicopter flying on Mars. \" src=\"/system/news_items/list_view_images/8896_thumb-320.jpg\"/></div><div class=\"bottom_gradient\"><div><h3>NASA Ingenuity Mars Helicopter Prepares for First Flight</h3></div></div></a><div class=\"list_text\"><div class=\"list_date\">March 23, 2021</div><div class=\"content_title\"><a href=\"/news/8896/nasa-ingenuity-mars-helicopter-prepares-for-first-flight/\" target=\"_self\">NASA Ingenuity Mars Helicopter Prepares for First Flight</a></div><div class=\"article_teaser_body\">Now uncocooned from its protective carbon-fiber shield, the helicopter is being readied for its next steps.  </div></div></div></li><li class=\"slide\"><div class=\"image_and_description_container\"><a href=\"/news/8892/another-first-perseverance-captures-the-sounds-of-driving-on-mars/\" target=\"_self\"><div class=\"rollover_description\"><div class=\"rollover_description_inner\">NASA’s newest rover recorded audio of itself crunching over the surface of the Red Planet, adding a whole new dimension to Mars exploration.</div><div class=\"overlay_arrow\"><img alt=\"More\" src=\"/assets/overlay-arrow.png\"/></div></div><div class=\"list_image\"><img alt=\"NASA’s Mars Perseverance rover acquired this image using its onboard Left Navigation Camera.\" src=\"/system/news_items/list_view_images/8892_PIA23729-Mars_Perseverance-320x240.jpg\"/></div><div class=\"bottom_gradient\"><div><h3>Another First: Perseverance Captures the Sounds of Driving on Mars</h3></div></div></a><div class=\"list_text\"><div class=\"list_date\">March 17, 2021</div><div class=\"content_title\"><a href=\"/news/8892/another-first-perseverance-captures-the-sounds-of-driving-on-mars/\" target=\"_self\">Another First: Perseverance Captures the Sounds of Driving on Mars</a></div><div class=\"article_teaser_body\">NASA’s newest rover recorded audio of itself crunching over the surface of the Red Planet, adding a whole new dimension to Mars exploration.</div></div></div></li><li class=\"slide\"><div class=\"image_and_description_container\"><a href=\"/news/8891/nasa-to-host-briefing-to-preview-first-mars-helicopter-flights/\" target=\"_self\"><div class=\"rollover_description\"><div class=\"rollover_description_inner\">Members of the projects will lay out the steps necessary before the helicopter attempts its historic test flights. </div><div class=\"overlay_arrow\"><img alt=\"More\" src=\"/assets/overlay-arrow.png\"/></div></div><div class=\"list_image\"><img alt=\"An illustration of NASA’s Ingenuity Helicopter on Mars. \" src=\"/system/news_items/list_view_images/8891_25117_PIA23720-320w.jpeg\"/></div><div class=\"bottom_gradient\"><div><h3>NASA to Host Briefing to Preview First Mars Helicopter Flights</h3></div></div></a><div class=\"list_text\"><div class=\"list_date\">March 17, 2021</div><div class=\"content_title\"><a href=\"/news/8891/nasa-to-host-briefing-to-preview-first-mars-helicopter-flights/\" target=\"_self\">NASA to Host Briefing to Preview First Mars Helicopter Flights</a></div><div class=\"article_teaser_body\">Members of the projects will lay out the steps necessary before the helicopter attempts its historic test flights. </div></div></div></li><li class=\"slide\"><div class=\"image_and_description_container\"><a href=\"/news/8888/new-study-challenges-long-held-theory-of-fate-of-mars-water/\" target=\"_self\"><div class=\"rollover_description\"><div class=\"rollover_description_inner\">The new science results indicate that a large quantity of the Red Planet’s water is trapped in its crust rather than having escaped into space.</div><div class=\"overlay_arrow\"><img alt=\"More\" src=\"/assets/overlay-arrow.png\"/></div></div><div class=\"list_image\"><img alt=\"This global view of Mars is composed of about 100 Viking Orbiter images.\" src=\"/system/news_items/list_view_images/8888_mars20130708-320x240.jpg\"/></div><div class=\"bottom_gradient\"><div><h3>New Study Challenges Long-Held Theory of Fate of Mars' Water</h3></div></div></a><div class=\"list_text\"><div class=\"list_date\">March 16, 2021</div><div class=\"content_title\"><a href=\"/news/8888/new-study-challenges-long-held-theory-of-fate-of-mars-water/\" target=\"_self\">New Study Challenges Long-Held Theory of Fate of Mars' Water</a></div><div class=\"article_teaser_body\">The new science results indicate that a large quantity of the Red Planet’s water is trapped in its crust rather than having escaped into space.</div></div></div></li><li class=\"slide\"><div class=\"image_and_description_container\"><a href=\"/news/8886/nasas-perseverance-mars-rover-mission-honors-navajo-language/\" target=\"_self\"><div class=\"rollover_description\"><div class=\"rollover_description_inner\">Working with the Navajo Nation, the rover team has named features on Mars with words from the Navajo language.</div><div class=\"overlay_arrow\"><img alt=\"More\" src=\"/assets/overlay-arrow.png\"/></div></div><div class=\"list_image\"><img alt=\"Canyon de Chelly National Monument (“Tséyi’” in Navajo) in Arizona is located on Navajo Nation land. Members of NASA’s Perseverance rover team, in collaboration with the Navajo Nation, has been naming features of scientific interest with words in the Navajo language. \" src=\"/system/news_items/list_view_images/8886_1-Canyon-de-Chelly-National-Monument-320x240.jpg\"/></div><div class=\"bottom_gradient\"><div><h3>NASA's Perseverance Mars Rover Mission Honors Navajo Language</h3></div></div></a><div class=\"list_text\"><div class=\"list_date\">March 11, 2021</div><div class=\"content_title\"><a href=\"/news/8886/nasas-perseverance-mars-rover-mission-honors-navajo-language/\" target=\"_self\">NASA's Perseverance Mars Rover Mission Honors Navajo Language</a></div><div class=\"article_teaser_body\">Working with the Navajo Nation, the rover team has named features on Mars with words from the Navajo language.</div></div></div></li><li class=\"slide\"><div class=\"image_and_description_container\"><a href=\"/news/8885/perseverance-rovers-supercam-science-instrument-delivers-first-results/\" target=\"_self\"><div class=\"rollover_description\"><div class=\"rollover_description_inner\">Data from the powerful science tool includes sounds of its laser zapping a rock in order to test what it’s made of.</div><div class=\"overlay_arrow\"><img alt=\"More\" src=\"/assets/overlay-arrow.png\"/></div></div><div class=\"list_image\"><img alt=\"Stitched together from five images, this mosaic shows the calibration target for the SuperCam instrument aboard NASA’s Perseverance rover on Mars. The component images were taken by SuperCam’s remote micro-imager (RMI).\" src=\"/system/news_items/list_view_images/8885_PIA24492_unannotated_Yeehgo_mosaic-320x240.jpg\"/></div><div class=\"bottom_gradient\"><div><h3>Perseverance Rover's SuperCam Science Instrument Delivers First Results</h3></div></div></a><div class=\"list_text\"><div class=\"list_date\">March 10, 2021</div><div class=\"content_title\"><a href=\"/news/8885/perseverance-rovers-supercam-science-instrument-delivers-first-results/\" target=\"_self\">Perseverance Rover's SuperCam Science Instrument Delivers First Results</a></div><div class=\"article_teaser_body\">Data from the powerful science tool includes sounds of its laser zapping a rock in order to test what it’s made of.</div></div></div></li><li class=\"slide\"><div class=\"image_and_description_container\"><a href=\"/news/8882/nasas-perseverance-drives-on-mars-terrain-for-first-time/\" target=\"_self\"><div class=\"rollover_description\"><div class=\"rollover_description_inner\">The first trek of the agency’s largest, most advanced rover yet on the Red Planet marks a major milestone before science operations get under way.</div><div class=\"overlay_arrow\"><img alt=\"More\" src=\"/assets/overlay-arrow.png\"/></div></div><div class=\"list_image\"><img alt=\"This image was taken during the first drive of NASA’s Perseverance rover on Mars on March 4, 2021. Perseverance landed on Feb. 18, 2021, and the team has been spending the weeks since landing checking out the rover to prepare for surface operations.\" src=\"/system/news_items/list_view_images/8882_PIA24487-320x240.jpg\"/></div><div class=\"bottom_gradient\"><div><h3>NASA's Perseverance Drives on Mars' Terrain for First Time</h3></div></div></a><div class=\"list_text\"><div class=\"list_date\">March  5, 2021</div><div class=\"content_title\"><a href=\"/news/8882/nasas-perseverance-drives-on-mars-terrain-for-first-time/\" target=\"_self\">NASA's Perseverance Drives on Mars' Terrain for First Time</a></div><div class=\"article_teaser_body\">The first trek of the agency’s largest, most advanced rover yet on the Red Planet marks a major milestone before science operations get under way.</div></div></div></li><li class=\"slide\"><div class=\"image_and_description_container\"><a href=\"/news/8881/media-telecon-materials-march-5-2021/\" target=\"_self\"><div class=\"rollover_description\"><div class=\"rollover_description_inner\">Mission team members are participating in a virtual teleconference to discuss milestones achieved so far since the Feb. 18 landing and those to come.</div><div class=\"overlay_arrow\"><img alt=\"More\" src=\"/assets/overlay-arrow.png\"/></div></div><div class=\"list_image\"><img alt=\"This image was taken during the first drive of NASA’s Perseverance rover on Mars on March 4, 2021. Perseverance landed on Feb. 18, 2021, and the team has been spending the weeks since landing checking out the rover to prepare for surface operations. This image was taken by the rover’s Navigation Cameras.\" src=\"/system/news_items/list_view_images/8881_PIA24485_K4_ZCAM_main_sol004_Delta_Remnant_unannotated-320x240.jpg\"/></div><div class=\"bottom_gradient\"><div><h3>Media Telecon Materials - March 5, 2021</h3></div></div></a><div class=\"list_text\"><div class=\"list_date\">March  5, 2021</div><div class=\"content_title\"><a href=\"/news/8881/media-telecon-materials-march-5-2021/\" target=\"_self\">Media Telecon Materials - March 5, 2021</a></div><div class=\"article_teaser_body\">Mission team members are participating in a virtual teleconference to discuss milestones achieved so far since the Feb. 18 landing and those to come.</div></div></div></li><li class=\"slide\"><div class=\"image_and_description_container\"><a href=\"/news/8880/nasa-awards-mars-ascent-propulsion-system-contract-for-sample-return/\" target=\"_self\"><div class=\"rollover_description\"><div class=\"rollover_description_inner\">The award moves NASA and ESA a step closer to realizing Mars Sample Return, an ambitious planetary exploration program that will build upon decades of science, knowledge, and experience.</div><div class=\"overlay_arrow\"><img alt=\"More\" src=\"/assets/overlay-arrow.png\"/></div></div><div class=\"list_image\"><img alt=\"Illustration of a rocket launching from Mars\" src=\"/system/news_items/list_view_images/8880_pia23496-320.jpg\"/></div><div class=\"bottom_gradient\"><div><h3>NASA Awards Mars Ascent Propulsion System Contract for Sample Return</h3></div></div></a><div class=\"list_text\"><div class=\"list_date\">March  4, 2021</div><div class=\"content_title\"><a href=\"/news/8880/nasa-awards-mars-ascent-propulsion-system-contract-for-sample-return/\" target=\"_self\">NASA Awards Mars Ascent Propulsion System Contract for Sample Return</a></div><div class=\"article_teaser_body\">The award moves NASA and ESA a step closer to realizing Mars Sample Return, an ambitious planetary exploration program that will build upon decades of science, knowledge, and experience.</div></div></div></li><li class=\"slide\"><div class=\"image_and_description_container\"><a href=\"/news/8878/nasa-to-provide-update-on-perseverance-firsts-since-mars-landing/\" target=\"_self\"><div class=\"rollover_description\"><div class=\"rollover_description_inner\">Mission team members are participating in a virtual teleconference to discuss milestones achieved so far since the Feb. 18 landing and those to come.</div><div class=\"overlay_arrow\"><img alt=\"More\" src=\"/assets/overlay-arrow.png\"/></div></div><div class=\"list_image\"><img alt=\"Perseverance's deck\" src=\"/system/news_items/list_view_images/8878_PIA24421-320.jpg\"/></div><div class=\"bottom_gradient\"><div><h3>NASA to Provide Update on Perseverance ‘Firsts' Since Mars Landing </h3></div></div></a><div class=\"list_text\"><div class=\"list_date\">March  3, 2021</div><div class=\"content_title\"><a href=\"/news/8878/nasa-to-provide-update-on-perseverance-firsts-since-mars-landing/\" target=\"_self\">NASA to Provide Update on Perseverance ‘Firsts' Since Mars Landing </a></div><div class=\"article_teaser_body\">Mission team members are participating in a virtual teleconference to discuss milestones achieved so far since the Feb. 18 landing and those to come.</div></div></div></li><li class=\"slide\"><div class=\"image_and_description_container\"><a href=\"/news/8875/testing-proves-its-worth-with-successful-mars-parachute-deployment/\" target=\"_self\"><div class=\"rollover_description\"><div class=\"rollover_description_inner\">The giant canopy that helped land Perseverance on Mars was tested here on Earth at NASA’s Wallops Flight Facility in Virginia.</div><div class=\"overlay_arrow\"><img alt=\"More\" src=\"/assets/overlay-arrow.png\"/></div></div><div class=\"list_image\"><img alt=\"footage of Perseverance's Feb. 18 touchdown on Mars \n",
       "\" src=\"/system/news_items/list_view_images/8875_PIA24431-decoder-ring-320x240.jpg\"/></div><div class=\"bottom_gradient\"><div><h3>Testing Proves Its Worth With Successful Mars Parachute Deployment</h3></div></div></a><div class=\"list_text\"><div class=\"list_date\">February 25, 2021</div><div class=\"content_title\"><a href=\"/news/8875/testing-proves-its-worth-with-successful-mars-parachute-deployment/\" target=\"_self\">Testing Proves Its Worth With Successful Mars Parachute Deployment</a></div><div class=\"article_teaser_body\">The giant canopy that helped land Perseverance on Mars was tested here on Earth at NASA’s Wallops Flight Facility in Virginia.</div></div></div></li><li class=\"slide\"><div class=\"image_and_description_container\"><a href=\"/news/8873/nasas-perseverance-rover-gives-high-definition-panoramic-view-of-landing-site/\" target=\"_self\"><div class=\"rollover_description\"><div class=\"rollover_description_inner\">A 360-degree panorama taken by the rover’s Mastcam-Z instrument will be discussed during a public video chat this Thursday.</div><div class=\"overlay_arrow\"><img alt=\"More\" src=\"/assets/overlay-arrow.png\"/></div></div><div class=\"list_image\"><img alt=\"A panoramic view of Mars taken at the location where the Perseverance rover landed. \" src=\"/system/news_items/list_view_images/8873_PIA2464-Perseverance_Sol3_Mastcam-Z_panorama-320x240.jpg\"/></div><div class=\"bottom_gradient\"><div><h3>NASA's Perseverance Rover Gives High-Definition Panoramic View of Landing Site</h3></div></div></a><div class=\"list_text\"><div class=\"list_date\">February 24, 2021</div><div class=\"content_title\"><a href=\"/news/8873/nasas-perseverance-rover-gives-high-definition-panoramic-view-of-landing-site/\" target=\"_self\">NASA's Perseverance Rover Gives High-Definition Panoramic View of Landing Site</a></div><div class=\"article_teaser_body\">A 360-degree panorama taken by the rover’s Mastcam-Z instrument will be discussed during a public video chat this Thursday.</div></div></div></li><li class=\"slide\"><div class=\"image_and_description_container\"><a href=\"/news/8872/nearly-11-million-names-of-earthlings-are-on-mars-perseverance/\" target=\"_self\"><div class=\"rollover_description\"><div class=\"rollover_description_inner\">When the Perseverance rover safely touched down on the Martian surface, inside Jezero Crater, on Feb. 18, 2021, it was also a safe landing for the nearly 11 million names on board.</div><div class=\"overlay_arrow\"><img alt=\"More\" src=\"/assets/overlay-arrow.png\"/></div></div><div class=\"list_image\"><img alt=\"Zoom into the millions of names on the Send Your Name to Mars microchip on Mars Perseverance. \" src=\"/system/news_items/list_view_images/8872_Perseverance_SYN_chip_on_Mars_320x180optimized_30ps.gif\"/></div><div class=\"bottom_gradient\"><div><h3>Nearly 11 Million Names of Earthlings are on Mars Perseverance</h3></div></div></a><div class=\"list_text\"><div class=\"list_date\">February 23, 2021</div><div class=\"content_title\"><a href=\"/news/8872/nearly-11-million-names-of-earthlings-are-on-mars-perseverance/\" target=\"_self\">Nearly 11 Million Names of Earthlings are on Mars Perseverance</a></div><div class=\"article_teaser_body\">When the Perseverance rover safely touched down on the Martian surface, inside Jezero Crater, on Feb. 18, 2021, it was also a safe landing for the nearly 11 million names on board.</div></div></div></li><li class=\"slide\"><div class=\"image_and_description_container\"><a href=\"/news/8870/nasas-mars-perseverance-rover-provides-front-row-seat-to-landing-first-audio-recording-of-red-planet/\" target=\"_self\"><div class=\"rollover_description\"><div class=\"rollover_description_inner\">The agency’s newest rover captured first-of-its kind footage of its Feb. 18 touchdown and has recorded audio of Martian wind.\n",
       "\n",
       "</div><div class=\"overlay_arrow\"><img alt=\"More\" src=\"/assets/overlay-arrow.png\"/></div></div><div class=\"list_image\"><img alt=\"Perseverance Navcams 360-Degree Panorama\" src=\"/system/news_items/list_view_images/8870_PIA24422-Navcam-08_N_LRGB_0002_RAS_0010052_CYL_S_UNCORCLJ01-stretched-v2.jpg\"/></div><div class=\"bottom_gradient\"><div><h3>NASA's Mars Perseverance Rover Provides Front-Row Seat to Landing, First Audio Recording of Red Planet </h3></div></div></a><div class=\"list_text\"><div class=\"list_date\">February 22, 2021</div><div class=\"content_title\"><a href=\"/news/8870/nasas-mars-perseverance-rover-provides-front-row-seat-to-landing-first-audio-recording-of-red-planet/\" target=\"_self\">NASA's Mars Perseverance Rover Provides Front-Row Seat to Landing, First Audio Recording of Red Planet </a></div><div class=\"article_teaser_body\">The agency’s newest rover captured first-of-its kind footage of its Feb. 18 touchdown and has recorded audio of Martian wind.\n",
       "\n",
       "</div></div></div></li><li class=\"slide\"><div class=\"image_and_description_container\"><a href=\"/news/8868/nasa-to-reveal-new-video-images-from-mars-perseverance-rover/\" target=\"_self\"><div class=\"rollover_description\"><div class=\"rollover_description_inner\">First-of-its kind footage from the agency’s newest rover will be presented during a briefing this morning.</div><div class=\"overlay_arrow\"><img alt=\"More\" src=\"/assets/overlay-arrow.png\"/></div></div><div class=\"list_image\"><img alt=\"Perseverance rover almost at Mars\" src=\"/system/news_items/list_view_images/8868_1-PIA24428-320.jpg\"/></div><div class=\"bottom_gradient\"><div><h3>NASA to Reveal New Video, Images From Mars Perseverance Rover</h3></div></div></a><div class=\"list_text\"><div class=\"list_date\">February 22, 2021</div><div class=\"content_title\"><a href=\"/news/8868/nasa-to-reveal-new-video-images-from-mars-perseverance-rover/\" target=\"_self\">NASA to Reveal New Video, Images From Mars Perseverance Rover</a></div><div class=\"article_teaser_body\">First-of-its kind footage from the agency’s newest rover will be presented during a briefing this morning.</div></div></div></li><li class=\"slide\"><div class=\"image_and_description_container\"><a href=\"/news/8867/nasas-mars-helicopter-reports-in/\" target=\"_self\"><div class=\"rollover_description\"><div class=\"rollover_description_inner\">The technology demonstration has phoned home from where it is attached to the belly of NASA’s Perseverance rover. </div><div class=\"overlay_arrow\"><img alt=\"More\" src=\"/assets/overlay-arrow.png\"/></div></div><div class=\"list_image\"><img alt=\"Illustration of NASA's Ingenuity Mars Helicopter stands on the Red Planet's surface\" src=\"/system/news_items/list_view_images/8867_PIA23720-320.jpg\"/></div><div class=\"bottom_gradient\"><div><h3>NASA's Mars Helicopter Reports In </h3></div></div></a><div class=\"list_text\"><div class=\"list_date\">February 20, 2021</div><div class=\"content_title\"><a href=\"/news/8867/nasas-mars-helicopter-reports-in/\" target=\"_self\">NASA's Mars Helicopter Reports In </a></div><div class=\"article_teaser_body\">The technology demonstration has phoned home from where it is attached to the belly of NASA’s Perseverance rover. </div></div></div></li><li class=\"slide\"><div class=\"image_and_description_container\"><a href=\"/news/8866/nasas-perseverance-rover-sends-sneak-peek-of-mars-landing/\" target=\"_self\"><div class=\"rollover_description\"><div class=\"rollover_description_inner\">The six-wheeled robot’s latest data since touching down yesterday include a hi-res image captured as the rover’s jetpack lowered it to the ground.</div><div class=\"overlay_arrow\"><img alt=\"More\" src=\"/assets/overlay-arrow.png\"/></div></div><div class=\"list_image\"><img alt=\"An image of the Perseverance rover as it touched down on Mars \" src=\"/system/news_items/list_view_images/8866_25609_1-PIA24428-320.jpg\"/></div><div class=\"bottom_gradient\"><div><h3>NASA's Perseverance Rover Sends Sneak Peek of Mars Landing</h3></div></div></a><div class=\"list_text\"><div class=\"list_date\">February 19, 2021</div><div class=\"content_title\"><a href=\"/news/8866/nasas-perseverance-rover-sends-sneak-peek-of-mars-landing/\" target=\"_self\">NASA's Perseverance Rover Sends Sneak Peek of Mars Landing</a></div><div class=\"article_teaser_body\">The six-wheeled robot’s latest data since touching down yesterday include a hi-res image captured as the rover’s jetpack lowered it to the ground.</div></div></div></li><li class=\"slide\"><div class=\"image_and_description_container\"><a href=\"/news/8865/touchdown-nasas-mars-perseverance-rover-safely-lands-on-red-planet/\" target=\"_self\"><div class=\"rollover_description\"><div class=\"rollover_description_inner\">The agency’s latest and most complex mission to the Red Planet has touched down at Jezero Crater. Now it’s time to begin testing the health of the rover.  </div><div class=\"overlay_arrow\"><img alt=\"More\" src=\"/assets/overlay-arrow.png\"/></div></div><div class=\"list_image\"><img alt=\"surface of Mars from Perseverance\" src=\"/system/news_items/list_view_images/8865_FLR_0000_0666952977_663ECM_T0010044AUT_04096_00_2I3J01-stretched.png\"/></div><div class=\"bottom_gradient\"><div><h3>Touchdown! NASA's Mars Perseverance Rover Safely Lands on Red Planet</h3></div></div></a><div class=\"list_text\"><div class=\"list_date\">February 18, 2021</div><div class=\"content_title\"><a href=\"/news/8865/touchdown-nasas-mars-perseverance-rover-safely-lands-on-red-planet/\" target=\"_self\">Touchdown! NASA's Mars Perseverance Rover Safely Lands on Red Planet</a></div><div class=\"article_teaser_body\">The agency’s latest and most complex mission to the Red Planet has touched down at Jezero Crater. Now it’s time to begin testing the health of the rover.  </div></div></div></li><li class=\"slide\"><div class=\"image_and_description_container\"><a href=\"/news/8863/searching-for-life-in-nasas-perseverance-mars-samples/\" target=\"_self\"><div class=\"rollover_description\"><div class=\"rollover_description_inner\">When the agency’s newest rover mission searches for fossilized microscopic life on the Red Planet, how will scientists know whether they’ve found it?</div><div class=\"overlay_arrow\"><img alt=\"More\" src=\"/assets/overlay-arrow.png\"/></div></div><div class=\"list_image\"><img alt=\"\" src=\"/system/news_items/list_view_images/8863_25593_PIA24240-320.jpg\"/></div><div class=\"bottom_gradient\"><div><h3>Searching for Life in NASA's Perseverance Mars Samples</h3></div></div></a><div class=\"list_text\"><div class=\"list_date\">February 17, 2021</div><div class=\"content_title\"><a href=\"/news/8863/searching-for-life-in-nasas-perseverance-mars-samples/\" target=\"_self\">Searching for Life in NASA's Perseverance Mars Samples</a></div><div class=\"article_teaser_body\">When the agency’s newest rover mission searches for fossilized microscopic life on the Red Planet, how will scientists know whether they’ve found it?</div></div></div></li><li class=\"slide\"><div class=\"image_and_description_container\"><a href=\"/news/8861/the-mars-relay-network-connects-us-to-nasas-martian-explorers/\" target=\"_self\"><div class=\"rollover_description\"><div class=\"rollover_description_inner\">A tightly choreographed dance between NASA’s Deep Space Network and Mars orbiters will keep the agency’s Perseverance in touch with Earth during landing and beyond.</div><div class=\"overlay_arrow\"><img alt=\"More\" src=\"/assets/overlay-arrow.png\"/></div></div><div class=\"list_image\"><img alt=\"Five spacecraft currently in orbit about the Red Planet make up the Mars Relay Network to transmit commands from Earth to surface missions and receive science data back from them. \" src=\"/system/news_items/list_view_images/8861_1C_mrn-comp-320x240.jpg\"/></div><div class=\"bottom_gradient\"><div><h3>The Mars Relay Network Connects Us to NASA's Martian Explorers</h3></div></div></a><div class=\"list_text\"><div class=\"list_date\">February 16, 2021</div><div class=\"content_title\"><a href=\"/news/8861/the-mars-relay-network-connects-us-to-nasas-martian-explorers/\" target=\"_self\">The Mars Relay Network Connects Us to NASA's Martian Explorers</a></div><div class=\"article_teaser_body\">A tightly choreographed dance between NASA’s Deep Space Network and Mars orbiters will keep the agency’s Perseverance in touch with Earth during landing and beyond.</div></div></div></li><li class=\"slide\"><div class=\"image_and_description_container\"><a href=\"/news/8860/nasas-next-mars-rover-is-ready-for-the-most-precise-landing-yet/\" target=\"_self\"><div class=\"rollover_description\"><div class=\"rollover_description_inner\">What to expect when the Mars 2020 Perseverance rover arrives at the Red Planet on Feb. 18, 2021.</div><div class=\"overlay_arrow\"><img alt=\"More\" src=\"/assets/overlay-arrow.png\"/></div></div><div class=\"list_image\"><img alt=\"The aeroshell containing NASA’s Perseverance rover guides itself towards the Martian surface as it descends through the atmosphere in this illustration. \" src=\"/system/news_items/list_view_images/8860_25446_05_GuidedEntry-320.jpg\"/></div><div class=\"bottom_gradient\"><div><h3>NASA's Next Mars Rover Is Ready for the Most Precise Landing Yet</h3></div></div></a><div class=\"list_text\"><div class=\"list_date\">February 16, 2021</div><div class=\"content_title\"><a href=\"/news/8860/nasas-next-mars-rover-is-ready-for-the-most-precise-landing-yet/\" target=\"_self\">NASA's Next Mars Rover Is Ready for the Most Precise Landing Yet</a></div><div class=\"article_teaser_body\">What to expect when the Mars 2020 Perseverance rover arrives at the Red Planet on Feb. 18, 2021.</div></div></div></li><li class=\"slide\"><div class=\"image_and_description_container\"><a href=\"/news/8859/sensors-prepare-to-collect-data-as-perseverance-enters-mars-atmosphere/\" target=\"_self\"><div class=\"rollover_description\"><div class=\"rollover_description_inner\">Technology will collect critical data about the harsh entry environment during Perseverance’s entry next Thursday.</div><div class=\"overlay_arrow\"><img alt=\"More\" src=\"/assets/overlay-arrow.png\"/></div></div><div class=\"list_image\"><img alt=\"MEDLI\" src=\"/system/news_items/list_view_images/8859_medli2_320x240.jpg\"/></div><div class=\"bottom_gradient\"><div><h3>Sensors Prepare to Collect Data as Perseverance Enters Mars' Atmosphere</h3></div></div></a><div class=\"list_text\"><div class=\"list_date\">February 12, 2021</div><div class=\"content_title\"><a href=\"/news/8859/sensors-prepare-to-collect-data-as-perseverance-enters-mars-atmosphere/\" target=\"_self\">Sensors Prepare to Collect Data as Perseverance Enters Mars' Atmosphere</a></div><div class=\"article_teaser_body\">Technology will collect critical data about the harsh entry environment during Perseverance’s entry next Thursday.</div></div></div></li><li class=\"slide\"><div class=\"image_and_description_container\"><a href=\"/news/8858/insight-is-meeting-the-challenge-of-winter-on-dusty-mars/\" target=\"_self\"><div class=\"rollover_description\"><div class=\"rollover_description_inner\">As dust collects on the solar panels and winter comes to Elysium Planitia, the team is following a plan to reduce science operations in order to keep the lander safe.</div><div class=\"overlay_arrow\"><img alt=\"More\" src=\"/assets/overlay-arrow.png\"/></div></div><div class=\"list_image\"><img alt=\"InSight on Mars\" src=\"/system/news_items/list_view_images/8858_25325_PIA22743-320.jpg\"/></div><div class=\"bottom_gradient\"><div><h3>InSight Is Meeting the Challenge of Winter on Dusty Mars</h3></div></div></a><div class=\"list_text\"><div class=\"list_date\">February 12, 2021</div><div class=\"content_title\"><a href=\"/news/8858/insight-is-meeting-the-challenge-of-winter-on-dusty-mars/\" target=\"_self\">InSight Is Meeting the Challenge of Winter on Dusty Mars</a></div><div class=\"article_teaser_body\">As dust collects on the solar panels and winter comes to Elysium Planitia, the team is following a plan to reduce science operations in order to keep the lander safe.</div></div></div></li><li class=\"slide\"><div class=\"image_and_description_container\"><a href=\"/news/8857/nasa-invites-public-to-share-thrill-of-mars-perseverance-rover-landing/\" target=\"_self\"><div class=\"rollover_description\"><div class=\"rollover_description_inner\">Mark your calendars for live landing commentary, news briefings, livestreamed Q&amp;As, virtual watch parties, student activities, and more.</div><div class=\"overlay_arrow\"><img alt=\"More\" src=\"/assets/overlay-arrow.png\"/></div></div><div class=\"list_image\"><img alt=\"descent stage\" src=\"/system/news_items/list_view_images/8857_25451_09_Touchdown-320.jpg\"/></div><div class=\"bottom_gradient\"><div><h3>NASA Invites Public to Share Thrill of Mars Perseverance Rover Landing</h3></div></div></a><div class=\"list_text\"><div class=\"list_date\">February 12, 2021</div><div class=\"content_title\"><a href=\"/news/8857/nasa-invites-public-to-share-thrill-of-mars-perseverance-rover-landing/\" target=\"_self\">NASA Invites Public to Share Thrill of Mars Perseverance Rover Landing</a></div><div class=\"article_teaser_body\">Mark your calendars for live landing commentary, news briefings, livestreamed Q&amp;As, virtual watch parties, student activities, and more.</div></div></div></li><li class=\"slide\"><div class=\"image_and_description_container\"><a href=\"/news/8852/tricky-terrain-helping-to-assure-a-safe-rover-landing/\" target=\"_self\"><div class=\"rollover_description\"><div class=\"rollover_description_inner\">How two new technologies will help Perseverance, NASA’s most sophisticated rover yet, touch down onto the surface of Mars this month.</div><div class=\"overlay_arrow\"><img alt=\"More\" src=\"/assets/overlay-arrow.png\"/></div></div><div class=\"list_image\"><img alt=\"diagram of rover landing on Mars\" src=\"/system/news_items/list_view_images/8852_Mars2020-Landing-Technique-320x240.jpg\"/></div><div class=\"bottom_gradient\"><div><h3>Tricky Terrain: Helping to Assure a Safe Rover Landing</h3></div></div></a><div class=\"list_text\"><div class=\"list_date\">February  8, 2021</div><div class=\"content_title\"><a href=\"/news/8852/tricky-terrain-helping-to-assure-a-safe-rover-landing/\" target=\"_self\">Tricky Terrain: Helping to Assure a Safe Rover Landing</a></div><div class=\"article_teaser_body\">How two new technologies will help Perseverance, NASA’s most sophisticated rover yet, touch down onto the surface of Mars this month.</div></div></div></li></ul>"
      ]
     },
     "execution_count": 4,
     "metadata": {},
     "output_type": "execute_result"
    }
   ],
   "source": [
    "wdiv=soup.find('ul', \"item_list\")\n",
    "wdiv\n"
   ]
  },
  {
   "cell_type": "code",
   "execution_count": 5,
   "metadata": {
    "collapsed": true,
    "jupyter": {
     "outputs_hidden": true
    }
   },
   "outputs": [
    {
     "name": "stdout",
     "output_type": "stream",
     "text": [
      "NASA's Ingenuity Mars Helicopter Logs Second Successful Flight\n",
      "NASA's Perseverance Mars Rover Extracts First Oxygen From Red Planet\n",
      "NASA's Ingenuity Mars Helicopter Succeeds in Historic First Flight\n",
      "NASA to Attempt First Controlled Flight on Mars As Soon As Monday\n",
      "NASA's Mars Helicopter to Make First Flight Attempt\n",
      "Webinars--Taking Flight: How Girls Can Grow up to Be Engineers \n",
      "Say Cheese on Mars: Perseverance's Selfie With Ingenuity\n",
      "NASA's Odyssey Orbiter Marks 20 Historic Years of Mapping Mars \n",
      "NASA Invites Public to Take Flight With Ingenuity Mars Helicopter \n",
      "NASA's First Weather Report From Jezero Crater on Mars\n",
      "NASA's Curiosity Team Names Martian Hill That Serves as Mission ‘Gateway'\n",
      "NASA's Mars Helicopter Survives First Cold Martian Night on Its Own\n",
      "NASA's InSight Detects Two Sizable Quakes on Mars\n",
      "Sensors Collect Crucial Data on Mars Landings With Arrival of Perseverance \n",
      "NASA's Curiosity Mars Rover Takes Selfie With 'Mont Mercou'\n",
      "NASA Ingenuity Mars Helicopter Prepares for First Flight\n",
      "Another First: Perseverance Captures the Sounds of Driving on Mars\n",
      "NASA to Host Briefing to Preview First Mars Helicopter Flights\n",
      "New Study Challenges Long-Held Theory of Fate of Mars' Water\n",
      "NASA's Perseverance Mars Rover Mission Honors Navajo Language\n",
      "Perseverance Rover's SuperCam Science Instrument Delivers First Results\n",
      "NASA's Perseverance Drives on Mars' Terrain for First Time\n",
      "Media Telecon Materials - March 5, 2021\n",
      "NASA Awards Mars Ascent Propulsion System Contract for Sample Return\n",
      "NASA to Provide Update on Perseverance ‘Firsts' Since Mars Landing \n",
      "Testing Proves Its Worth With Successful Mars Parachute Deployment\n",
      "NASA's Perseverance Rover Gives High-Definition Panoramic View of Landing Site\n",
      "Nearly 11 Million Names of Earthlings are on Mars Perseverance\n",
      "NASA's Mars Perseverance Rover Provides Front-Row Seat to Landing, First Audio Recording of Red Planet \n",
      "NASA to Reveal New Video, Images From Mars Perseverance Rover\n",
      "NASA's Mars Helicopter Reports In \n",
      "NASA's Perseverance Rover Sends Sneak Peek of Mars Landing\n",
      "Touchdown! NASA's Mars Perseverance Rover Safely Lands on Red Planet\n",
      "Searching for Life in NASA's Perseverance Mars Samples\n",
      "The Mars Relay Network Connects Us to NASA's Martian Explorers\n",
      "NASA's Next Mars Rover Is Ready for the Most Precise Landing Yet\n",
      "Sensors Prepare to Collect Data as Perseverance Enters Mars' Atmosphere\n",
      "InSight Is Meeting the Challenge of Winter on Dusty Mars\n",
      "NASA Invites Public to Share Thrill of Mars Perseverance Rover Landing\n",
      "Tricky Terrain: Helping to Assure a Safe Rover Landing\n"
     ]
    }
   ],
   "source": [
    "news_title = wdiv.find_all('div', \"content_title\")\n",
    "for new in news_title:\n",
    "    print(new.text)\n"
   ]
  },
  {
   "cell_type": "code",
   "execution_count": 6,
   "metadata": {
    "collapsed": true,
    "jupyter": {
     "outputs_hidden": true
    }
   },
   "outputs": [
    {
     "name": "stdout",
     "output_type": "stream",
     "text": [
      "The small rotorcraft’s horizons were expanded on its second flight. \n",
      "The milestone, which the MOXIE instrument achieved by converting carbon dioxide into oxygen, points the way to future human exploration of the Red Planet. \n",
      "The small rotorcraft made history, hovering above Jezero Crater, demonstrating that powered, controlled flight on another planet is possible.\n",
      "A livestream will begin at 3:15 a.m. PDT that morning as the helicopter team prepares to receive the data downlink at NASA’s Jet Propulsion Laboratory.\n",
      "The small rotorcraft’s “Wright brothers moment” is two Mars days away.\n",
      "Do you like solving problems, working with other people, and making a difference? Consider a career in engineering!\n",
      "NASA’s newest Mars rover used a camera on the end of its robotic arm to snap this shot of itself with the Ingenuity helicopter nearby.\n",
      "For two decades, the longest-lived spacecraft at the Red Planet has helped locate water ice, assess landing sites, and study the planet’s mysterious moons.\n",
      "\n",
      "The helicopter is scheduled to lift off close to the end of the day on April 11.\n",
      "Perseverance’s MEDA will help us understand how to prepare astronauts for a future on the Red Planet.\n",
      "The name honors recently deceased mission scientist Rafael Navarro-González, who helped lead the team that identified ancient organic compounds on Mars\n",
      "NASA’s Ingenuity helicopter can be seen on Mars as viewed by the Perseverance rover’s rear Hazard Camera on April 4, 2021, the 44th Martian day, or sol of the mission.\n",
      "The magnitude 3.3 and 3.1 temblors originated in a region called Cerberus Fossae, further supporting the idea that this location is seismically active.\n",
      "MEDLI2 was one of the crucial technologies onboard the rover’s protective aeroshell that helped document the entry, descent, and landing of the spacecraft. \n",
      "The rover also snapped a pair of panoramas to create a 3D view of the stark cliff face featured in the selfie.\n",
      "Now uncocooned from its protective carbon-fiber shield, the helicopter is being readied for its next steps.  \n",
      "NASA’s newest rover recorded audio of itself crunching over the surface of the Red Planet, adding a whole new dimension to Mars exploration.\n",
      "Members of the projects will lay out the steps necessary before the helicopter attempts its historic test flights. \n",
      "The new science results indicate that a large quantity of the Red Planet’s water is trapped in its crust rather than having escaped into space.\n",
      "Working with the Navajo Nation, the rover team has named features on Mars with words from the Navajo language.\n",
      "Data from the powerful science tool includes sounds of its laser zapping a rock in order to test what it’s made of.\n",
      "The first trek of the agency’s largest, most advanced rover yet on the Red Planet marks a major milestone before science operations get under way.\n",
      "Mission team members are participating in a virtual teleconference to discuss milestones achieved so far since the Feb. 18 landing and those to come.\n",
      "The award moves NASA and ESA a step closer to realizing Mars Sample Return, an ambitious planetary exploration program that will build upon decades of science, knowledge, and experience.\n",
      "Mission team members are participating in a virtual teleconference to discuss milestones achieved so far since the Feb. 18 landing and those to come.\n",
      "The giant canopy that helped land Perseverance on Mars was tested here on Earth at NASA’s Wallops Flight Facility in Virginia.\n",
      "A 360-degree panorama taken by the rover’s Mastcam-Z instrument will be discussed during a public video chat this Thursday.\n",
      "When the Perseverance rover safely touched down on the Martian surface, inside Jezero Crater, on Feb. 18, 2021, it was also a safe landing for the nearly 11 million names on board.\n",
      "The agency’s newest rover captured first-of-its kind footage of its Feb. 18 touchdown and has recorded audio of Martian wind.\n",
      "\n",
      "\n",
      "First-of-its kind footage from the agency’s newest rover will be presented during a briefing this morning.\n",
      "The technology demonstration has phoned home from where it is attached to the belly of NASA’s Perseverance rover. \n",
      "The six-wheeled robot’s latest data since touching down yesterday include a hi-res image captured as the rover’s jetpack lowered it to the ground.\n",
      "The agency’s latest and most complex mission to the Red Planet has touched down at Jezero Crater. Now it’s time to begin testing the health of the rover.  \n",
      "When the agency’s newest rover mission searches for fossilized microscopic life on the Red Planet, how will scientists know whether they’ve found it?\n",
      "A tightly choreographed dance between NASA’s Deep Space Network and Mars orbiters will keep the agency’s Perseverance in touch with Earth during landing and beyond.\n",
      "What to expect when the Mars 2020 Perseverance rover arrives at the Red Planet on Feb. 18, 2021.\n",
      "Technology will collect critical data about the harsh entry environment during Perseverance’s entry next Thursday.\n",
      "As dust collects on the solar panels and winter comes to Elysium Planitia, the team is following a plan to reduce science operations in order to keep the lander safe.\n",
      "Mark your calendars for live landing commentary, news briefings, livestreamed Q&As, virtual watch parties, student activities, and more.\n",
      "How two new technologies will help Perseverance, NASA’s most sophisticated rover yet, touch down onto the surface of Mars this month.\n"
     ]
    }
   ],
   "source": [
    "news_p = wdiv.find_all('div', \"article_teaser_body\")\n",
    "for new in news_p:\n",
    "    print(new.text)"
   ]
  },
  {
   "cell_type": "code",
   "execution_count": 7,
   "metadata": {},
   "outputs": [
    {
     "name": "stderr",
     "output_type": "stream",
     "text": [
      "[WDM] - ====== WebDriver manager ======\n",
      "[WDM] - Current google-chrome version is 89.0.4389\n",
      "[WDM] - Get LATEST driver version for 89.0.4389\n"
     ]
    },
    {
     "name": "stdout",
     "output_type": "stream",
     "text": [
      "\n",
      "\n"
     ]
    },
    {
     "name": "stderr",
     "output_type": "stream",
     "text": [
      "[WDM] - Driver [C:\\Users\\fredd\\.wdm\\drivers\\chromedriver\\win32\\89.0.4389.23\\chromedriver.exe] found in cache\n"
     ]
    }
   ],
   "source": [
    "    driver = webdriver.Chrome(ChromeDriverManager().install())\n",
    "    url_jpl=\"https://data-class-jpl-space.s3.amazonaws.com/JPL_Space/index.html\"\n",
    "    driver.get(url_jpl)"
   ]
  },
  {
   "cell_type": "code",
   "execution_count": 8,
   "metadata": {},
   "outputs": [],
   "source": [
    "html= driver.page_source\n",
    "soup=bs(html,\"lxml\")"
   ]
  },
  {
   "cell_type": "code",
   "execution_count": 9,
   "metadata": {
    "collapsed": true,
    "jupyter": {
     "outputs_hidden": true
    }
   },
   "outputs": [
    {
     "data": {
      "text/plain": [
       "<div class=\"div1\" id=\"filter\">\n",
       "<div class=\"thmbgroup\"><a class=\"fancybox-thumbs\" data-fancybox-group=\"thumb\" href=\"image/mars/Icaria Fossae7.jpg\"><div class=\"thmb\"><img alt=\"\" class=\"thumbimg\" src=\"image/mars/Icaria Fossae7.jpg\"/><p class=\"thumbcontent\">January 1, 2020<br/>Icaria Fossae7</p></div></a><a class=\"fancybox-thumbs\" data-fancybox-group=\"thumb\" href=\"image/mars/Proctor Crater Dunes 7.jpg\"><div class=\"thmb\"><img alt=\"\" class=\"thumbimg\" src=\"image/mars/Proctor Crater Dunes 7.jpg\"/><p class=\"thumbcontent\">December 31, 2020<br/>Proctor Crater Dunes</p></div></a><a class=\"fancybox-thumbs\" data-fancybox-group=\"thumb\" href=\"image/mars/Icaria Fossae7.jpg\"><div class=\"thmb\"><img alt=\"\" class=\"thumbimg\" src=\"image/mars/Icaria Fossae7.jpg\"/><p class=\"thumbcontent\">December 31, 2020<br/>Icaria Fossae</p></div></a><a class=\"fancybox-thumbs\" data-fancybox-group=\"thumb\" href=\"image/mars/Proctor Crater Dunes 7.jpg\"><div class=\"thmb\"><img alt=\"\" class=\"thumbimg\" src=\"image/mars/Proctor Crater Dunes 7.jpg\"/><p class=\"thumbcontent\">December 29, 2020<br/>Proctor Crater Dunes</p></div></a><a class=\"fancybox-thumbs\" data-fancybox-group=\"thumb\" href=\"image/mars/Proctor Crater Dunes 7.jpg\"><div class=\"thmb\"><img alt=\"\" class=\"thumbimg\" src=\"image/mars/Proctor Crater Dunes 7.jpg\"/><p class=\"thumbcontent\">December 28, 2020<br/>roctor Crater Dunes</p></div></a><a class=\"fancybox-thumbs\" data-fancybox-group=\"thumb\" href=\"image/mars/Icaria Fossae7.jpg\"><div class=\"thmb\"><img alt=\"\" class=\"thumbimg\" src=\"image/mars/Icaria Fossae7.jpg\"/><p class=\"thumbcontent\">December 22, 2020<br/>Icaria Fossae</p></div></a><a class=\"fancybox-thumbs\" data-fancybox-group=\"thumb\" href=\"image/mars/Icaria Fossae.jpg\"><div class=\"thmb\"><img alt=\"\" class=\"thumbimg\" src=\"image/mars/Icaria Fossae.jpg\"/><p class=\"thumbcontent\">December 21, 2020<br/>Icaria Fossae</p></div></a><a class=\"fancybox-thumbs\" data-fancybox-group=\"thumb\" href=\"image/mars/Ariadnes Colles4.jpg\"><div class=\"thmb\"><img alt=\"\" class=\"thumbimg\" src=\"image/mars/Ariadnes Colles4.jpg\"/><p class=\"thumbcontent\">December 18, 2020<br/>Ariadnes Colles</p></div></a><a class=\"fancybox-thumbs\" data-fancybox-group=\"thumb\" href=\"image/mars/Niger Vallis.jpg\"><div class=\"thmb\"><img alt=\"\" class=\"thumbimg\" src=\"image/mars/Niger Vallis.jpg\"/><p class=\"thumbcontent\">December 17, 2020<br/>Niger Vallis</p></div></a><a class=\"fancybox-thumbs\" data-fancybox-group=\"thumb\" href=\"image/mars/Proctor Crater Dunes.jpg\"><div class=\"thmb\"><img alt=\"\" class=\"thumbimg\" src=\"image/mars/Proctor Crater Dunes.jpg\"/><p class=\"thumbcontent\">December 16, 2020<br/>Proctor Crater Dunes</p></div></a><a class=\"fancybox-thumbs\" data-fancybox-group=\"thumb\" href=\"image/mars/Niger Vallis.jpg\"><div class=\"thmb\"><img alt=\"\" class=\"thumbimg\" src=\"image/mars/Niger Vallis.jpg\"/><p class=\"thumbcontent\">December 15, 2020<br/>Niger Vallis</p></div></a><a class=\"fancybox-thumbs\" data-fancybox-group=\"thumb\" href=\"image/mars/Daedalia Planum.jpg\"><div class=\"thmb\"><img alt=\"\" class=\"thumbimg\" src=\"image/mars/Daedalia Planum.jpg\"/><p class=\"thumbcontent\">December 11, 2020<br/>Daedalia Planum</p></div></a><a class=\"fancybox-thumbs\" data-fancybox-group=\"thumb\" href=\"image/mars/Sirenum Fossae.jpg\"><div class=\"thmb\"><img alt=\"\" class=\"thumbimg\" src=\"image/mars/Sirenum Fossae.jpg\"/><p class=\"thumbcontent\">November,11, 2020<br/>Sirenum Fossae</p></div></a><a class=\"fancybox-thumbs\" data-fancybox-group=\"thumb\" href=\"image/mars/Ariadnes Colles4.jpg\"><div class=\"thmb\"><img alt=\"\" class=\"thumbimg\" src=\"image/mars/Ariadnes Colles4.jpg\"/><p class=\"thumbcontent\">November,13, 2020<br/>Ariadnes Colles</p></div></a><a class=\"fancybox-thumbs\" data-fancybox-group=\"thumb\" href=\"image/mars/South Polar Cap.jpg\"><div class=\"thmb\"><img alt=\"\" class=\"thumbimg\" src=\"image/mars/South Polar Cap.jpg\"/><p class=\"thumbcontent\">November,14, 2020<br/>South Polar Cap</p></div></a><a class=\"fancybox-thumbs\" data-fancybox-group=\"thumb\" href=\"image/mars/Daedalia Planum.jpg\"><div class=\"thmb\"><img alt=\"\" class=\"thumbimg\" src=\"image/mars/Daedalia Planum.jpg\"/><p class=\"thumbcontent\">November,17, 2020<br/>Daedalia Planum</p></div></a><a class=\"fancybox-thumbs\" data-fancybox-group=\"thumb\" href=\"image/mars/Ariadnes Colles3.jpg\"><div class=\"thmb\"><img alt=\"\" class=\"thumbimg\" src=\"image/mars/Ariadnes Colles3.jpg\"/><p class=\"thumbcontent\">November,11, 2020<br/>Ariadnes Colles</p></div></a><a class=\"fancybox-thumbs\" data-fancybox-group=\"thumb\" href=\"image/mars/Atlantis Chaos.jpg\"><div class=\"thmb\"><img alt=\"\" class=\"thumbimg\" src=\"image/mars/Atlantis Chaos.jpg\"/><p class=\"thumbcontent\">November,09, 2020<br/>Atlantis Chaos</p></div></a><a class=\"fancybox-thumbs\" data-fancybox-group=\"thumb\" href=\"image/mars/Daedalia Planum.jpg\"><div class=\"thmb\"><img alt=\"\" class=\"thumbimg\" src=\"image/mars/Daedalia Planum.jpg\"/><p class=\"thumbcontent\">January 1, 2020<br/>Daedalia Planum</p></div></a><a class=\"fancybox-thumbs\" data-fancybox-group=\"thumb\" href=\"image/mars/Icaria Fossae.jpg\"><div class=\"thmb\"><img alt=\"\" class=\"thumbimg\" src=\"image/mars/Icaria Fossae.jpg\"/><p class=\"thumbcontent\">January 1, 2020<br/>Icaria Fossae</p></div></a><a class=\"fancybox-thumbs\" data-fancybox-group=\"thumb\" href=\"image/mars/Niger Vallis.jpg\"><div class=\"thmb\"><img alt=\"\" class=\"thumbimg\" src=\"image/mars/Niger Vallis.jpg\"/><p class=\"thumbcontent\">January 1, 2020<br/>Niger Vallis</p></div></a><a class=\"fancybox-thumbs\" data-fancybox-group=\"thumb\" href=\"image/mars/Proctor Crater Dunes.jpg\"><div class=\"thmb\"><img alt=\"\" class=\"thumbimg\" src=\"image/mars/Proctor Crater Dunes.jpg\"/><p class=\"thumbcontent\">January 1, 2020<br/>Proctor Crater Dunes</p></div></a><a class=\"fancybox-thumbs\" data-fancybox-group=\"thumb\" href=\"image/mars/Reull Vallis.jpg\"><div class=\"thmb\"><img alt=\"\" class=\"thumbimg\" src=\"image/mars/Reull Vallis.jpg\"/><p class=\"thumbcontent\">January 1, 2020<br/>Reull Vallis</p></div></a><a class=\"fancybox-thumbs\" data-fancybox-group=\"thumb\" href=\"image/mars/Ariadnes Colles3.jpg\"><div class=\"thmb\"><img alt=\"\" class=\"thumbimg\" src=\"image/mars/Ariadnes Colles3.jpg\"/><p class=\"thumbcontent\">January 1, 2020<br/>Ariadnes Colles</p></div></a><a class=\"fancybox-thumbs\" data-fancybox-group=\"thumb\" href=\"image/mars/Sirenum Fossae.jpg\"><div class=\"thmb\"><img alt=\"\" class=\"thumbimg\" src=\"image/mars/Sirenum Fossae.jpg\"/><p class=\"thumbcontent\">January 1, 2020<br/>Sirenum Fossae</p></div></a><a class=\"fancybox-thumbs\" data-fancybox-group=\"thumb\" href=\"image/mars/South Polar Cap.jpg\"><div class=\"thmb\"><img alt=\"\" class=\"thumbimg\" src=\"image/mars/South Polar Cap.jpg\"/><p class=\"thumbcontent\">January 1, 2020<br/>South Polar Cap</p></div></a><a class=\"fancybox-thumbs\" data-fancybox-group=\"thumb\" href=\"image/mars/Niger Vallis.jpg\"><div class=\"thmb\"><img alt=\"\" class=\"thumbimg\" src=\"image/mars/Niger Vallis.jpg\"/><p class=\"thumbcontent\">January 1, 2020<br/>Niger Vallis</p></div></a><a class=\"fancybox-thumbs\" data-fancybox-group=\"thumb\" href=\"image/mars/Daedalia Planum.jpg\"><div class=\"thmb\"><img alt=\"\" class=\"thumbimg\" src=\"image/mars/Daedalia Planum.jpg\"/><p class=\"thumbcontent\">January 1, 2020<br/>Daedalia Planum</p></div></a><a class=\"fancybox-thumbs\" data-fancybox-group=\"thumb\" href=\"image/mars/Icaria Fossae.jpg\"><div class=\"thmb\"><img alt=\"\" class=\"thumbimg\" src=\"image/mars/Icaria Fossae.jpg\"/><p class=\"thumbcontent\">January 1, 2020<br/>Icaria Fossae</p></div></a><a class=\"fancybox-thumbs\" data-fancybox-group=\"thumb\" href=\"image/mars/Ariadnes Colles4.jpg\"><div class=\"thmb\"><img alt=\"\" class=\"thumbimg\" src=\"image/mars/Ariadnes Colles4.jpg\"/><p class=\"thumbcontent\">January 1, 2020<br/>Ariadnes Colles</p></div></a><a class=\"fancybox-thumbs\" data-fancybox-group=\"thumb\" href=\"image/mars/South Polar Cap.jpg\"><div class=\"thmb\"><img alt=\"\" class=\"thumbimg\" src=\"image/mars/South Polar Cap.jpg\"/><p class=\"thumbcontent\">January 1, 2020<br/>South Polar Cap</p></div></a><a class=\"fancybox-thumbs\" data-fancybox-group=\"thumb\" href=\"image/mars/Daedalia Planum.jpg\"><div class=\"thmb\"><img alt=\"\" class=\"thumbimg\" src=\"image/mars/Daedalia Planum.jpg\"/><p class=\"thumbcontent\">January 1, 2020<br/>Daedalia Planum</p></div></a></div>\n",
       "</div>"
      ]
     },
     "execution_count": 9,
     "metadata": {},
     "output_type": "execute_result"
    }
   ],
   "source": [
    "wdiv_jpl=soup.find('div', id=\"filter\")\n",
    "wdiv_jpl"
   ]
  },
  {
   "cell_type": "code",
   "execution_count": 10,
   "metadata": {},
   "outputs": [
    {
     "name": "stdout",
     "output_type": "stream",
     "text": [
      "https://data-class-jpl-space.s3.amazonaws.com/JPL_Space/index.html\n",
      "https://data-class-jpl-space.s3.amazonaws.com/JPL_Space/\n"
     ]
    },
    {
     "ename": "NameError",
     "evalue": "name 'featured_image_url' is not defined",
     "output_type": "error",
     "traceback": [
      "\u001b[1;31m---------------------------------------------------------------------------\u001b[0m",
      "\u001b[1;31mNameError\u001b[0m                                 Traceback (most recent call last)",
      "\u001b[1;32m<ipython-input-10-11d7c4d52e94>\u001b[0m in \u001b[0;36m<module>\u001b[1;34m\u001b[0m\n\u001b[0;32m      9\u001b[0m \u001b[1;31m# print(featured_image_url)\u001b[0m\u001b[1;33m\u001b[0m\u001b[1;33m\u001b[0m\u001b[1;33m\u001b[0m\u001b[0m\n\u001b[0;32m     10\u001b[0m \u001b[1;33m\u001b[0m\u001b[0m\n\u001b[1;32m---> 11\u001b[1;33m \u001b[1;32mfor\u001b[0m \u001b[0mx\u001b[0m \u001b[1;32min\u001b[0m \u001b[0mfeatured_image_url\u001b[0m\u001b[1;33m:\u001b[0m\u001b[1;33m\u001b[0m\u001b[1;33m\u001b[0m\u001b[0m\n\u001b[0m\u001b[0;32m     12\u001b[0m     \u001b[0mx\u001b[0m\u001b[1;33m=\u001b[0m\u001b[1;36m0\u001b[0m\u001b[1;33m\u001b[0m\u001b[1;33m\u001b[0m\u001b[0m\n\u001b[0;32m     13\u001b[0m \u001b[1;33m\u001b[0m\u001b[0m\n",
      "\u001b[1;31mNameError\u001b[0m: name 'featured_image_url' is not defined"
     ]
    }
   ],
   "source": [
    "#featured_image_src = wdiv_jpl.find_all('img')\n",
    "srt_url=url_jpl\n",
    "print(srt_url)\n",
    "srt_url_2=srt_url[:-10]\n",
    "print(srt_url_2)\n",
    "\n",
    "\n",
    "\n",
    "# print(featured_image_url)\n",
    "\n",
    "for x in featured_image_url:\n",
    "    x=0\n",
    "    \n",
    "    featured_image_url=(srt_url_2+wdiv_jpl.find_all('img')[x][\"src\"]).replace(\" \",\"%20\")\n",
    "    print(featured_image_url)\n",
    "    x= x+1\n",
    "   \n",
    "    \n"
   ]
  },
  {
   "cell_type": "code",
   "execution_count": null,
   "metadata": {},
   "outputs": [],
   "source": []
  },
  {
   "cell_type": "code",
   "execution_count": 11,
   "metadata": {},
   "outputs": [
    {
     "name": "stderr",
     "output_type": "stream",
     "text": [
      "[WDM] - ====== WebDriver manager ======\n",
      "[WDM] - Current google-chrome version is 89.0.4389\n",
      "[WDM] - Get LATEST driver version for 89.0.4389\n",
      "[WDM] - Driver [C:\\Users\\fredd\\.wdm\\drivers\\chromedriver\\win32\\89.0.4389.23\\chromedriver.exe] found in cache\n"
     ]
    },
    {
     "name": "stdout",
     "output_type": "stream",
     "text": [
      "\n",
      "\n"
     ]
    }
   ],
   "source": [
    "driver = webdriver.Chrome(ChromeDriverManager().install())\n",
    "url=\"https://space-facts.com/mars/\"\n",
    "driver.get(url)"
   ]
  },
  {
   "cell_type": "code",
   "execution_count": 12,
   "metadata": {},
   "outputs": [],
   "source": [
    "html= driver.page_source\n",
    "soup=bs(html,\"lxml\")"
   ]
  },
  {
   "cell_type": "code",
   "execution_count": 18,
   "metadata": {},
   "outputs": [
    {
     "data": {
      "text/plain": [
       "<table class=\"tablepress tablepress-id-p-mars\" id=\"tablepress-p-mars-no-2\"><tbody><tr class=\"row-1 odd\"><td class=\"column-1\"><strong>Equatorial Diameter:</strong></td><td class=\"column-2\">6,792 km<br/></td></tr><tr class=\"row-2 even\"><td class=\"column-1\"><strong>Polar Diameter:</strong></td><td class=\"column-2\">6,752 km<br/></td></tr><tr class=\"row-3 odd\"><td class=\"column-1\"><strong>Mass:</strong></td><td class=\"column-2\">6.39 × 10^23 kg<br/> (0.11 Earths)</td></tr><tr class=\"row-4 even\"><td class=\"column-1\"><strong>Moons:</strong></td><td class=\"column-2\">2 (<a href=\"https://space-facts.com/moons/phobos/\">Phobos</a> &amp; <a href=\"https://space-facts.com/moons/deimos/\">Deimos</a>)</td></tr><tr class=\"row-5 odd\"><td class=\"column-1\"><strong>Orbit Distance:</strong></td><td class=\"column-2\">227,943,824 km<br/> (1.38 AU)</td></tr><tr class=\"row-6 even\"><td class=\"column-1\"><strong>Orbit Period:</strong></td><td class=\"column-2\">687 days (1.9 years)<br/></td></tr><tr class=\"row-7 odd\"><td class=\"column-1\"><strong>Surface Temperature: </strong></td><td class=\"column-2\">-87 to -5 °C</td></tr><tr class=\"row-8 even\"><td class=\"column-1\"><strong>First Record:</strong></td><td class=\"column-2\">2nd millennium BC</td></tr><tr class=\"row-9 odd\"><td class=\"column-1\"><strong>Recorded By:</strong></td><td class=\"column-2\">Egyptian astronomers</td></tr></tbody></table>"
      ]
     },
     "execution_count": 18,
     "metadata": {},
     "output_type": "execute_result"
    }
   ],
   "source": [
    "table=soup.find('table', id=\"tablepress-p-mars-no-2\")\n",
    "table"
   ]
  },
  {
   "cell_type": "code",
   "execution_count": 21,
   "metadata": {},
   "outputs": [
    {
     "name": "stderr",
     "output_type": "stream",
     "text": [
      "<ipython-input-21-4c8faffa2b78>:2: UserWarning: Pandas doesn't allow columns to be created via a new attribute name - see https://pandas.pydata.org/pandas-docs/stable/indexing.html#attribute-access\n",
      "  mars_facts.colummns=[\"Facts\",\"Values\"]\n"
     ]
    },
    {
     "ename": "KeyError",
     "evalue": "\"None of ['Facts'] are in the columns\"",
     "output_type": "error",
     "traceback": [
      "\u001b[1;31m---------------------------------------------------------------------------\u001b[0m",
      "\u001b[1;31mKeyError\u001b[0m                                  Traceback (most recent call last)",
      "\u001b[1;32m<ipython-input-21-4c8faffa2b78>\u001b[0m in \u001b[0;36m<module>\u001b[1;34m\u001b[0m\n\u001b[0;32m      1\u001b[0m \u001b[0mmars_facts\u001b[0m \u001b[1;33m=\u001b[0m \u001b[0mpd\u001b[0m\u001b[1;33m.\u001b[0m\u001b[0mread_html\u001b[0m\u001b[1;33m(\u001b[0m\u001b[0murl\u001b[0m\u001b[1;33m)\u001b[0m\u001b[1;33m[\u001b[0m\u001b[1;36m0\u001b[0m\u001b[1;33m]\u001b[0m\u001b[1;33m\u001b[0m\u001b[1;33m\u001b[0m\u001b[0m\n\u001b[0;32m      2\u001b[0m \u001b[0mmars_facts\u001b[0m\u001b[1;33m.\u001b[0m\u001b[0mcolummns\u001b[0m\u001b[1;33m=\u001b[0m\u001b[1;33m[\u001b[0m\u001b[1;34m\"Facts\"\u001b[0m\u001b[1;33m,\u001b[0m\u001b[1;34m\"Values\"\u001b[0m\u001b[1;33m]\u001b[0m\u001b[1;33m\u001b[0m\u001b[1;33m\u001b[0m\u001b[0m\n\u001b[1;32m----> 3\u001b[1;33m \u001b[0mmars_df\u001b[0m \u001b[1;33m=\u001b[0m \u001b[0mmars_facts\u001b[0m\u001b[1;33m.\u001b[0m\u001b[0mset_index\u001b[0m\u001b[1;33m(\u001b[0m\u001b[1;33m[\u001b[0m\u001b[1;34m\"Facts\"\u001b[0m\u001b[1;33m]\u001b[0m\u001b[1;33m)\u001b[0m\u001b[1;33m\u001b[0m\u001b[1;33m\u001b[0m\u001b[0m\n\u001b[0m",
      "\u001b[1;32m~\\anaconda3\\lib\\site-packages\\pandas\\core\\frame.py\u001b[0m in \u001b[0;36mset_index\u001b[1;34m(self, keys, drop, append, inplace, verify_integrity)\u001b[0m\n\u001b[0;32m   4549\u001b[0m \u001b[1;33m\u001b[0m\u001b[0m\n\u001b[0;32m   4550\u001b[0m         \u001b[1;32mif\u001b[0m \u001b[0mmissing\u001b[0m\u001b[1;33m:\u001b[0m\u001b[1;33m\u001b[0m\u001b[1;33m\u001b[0m\u001b[0m\n\u001b[1;32m-> 4551\u001b[1;33m             \u001b[1;32mraise\u001b[0m \u001b[0mKeyError\u001b[0m\u001b[1;33m(\u001b[0m\u001b[1;34mf\"None of {missing} are in the columns\"\u001b[0m\u001b[1;33m)\u001b[0m\u001b[1;33m\u001b[0m\u001b[1;33m\u001b[0m\u001b[0m\n\u001b[0m\u001b[0;32m   4552\u001b[0m \u001b[1;33m\u001b[0m\u001b[0m\n\u001b[0;32m   4553\u001b[0m         \u001b[1;32mif\u001b[0m \u001b[0minplace\u001b[0m\u001b[1;33m:\u001b[0m\u001b[1;33m\u001b[0m\u001b[1;33m\u001b[0m\u001b[0m\n",
      "\u001b[1;31mKeyError\u001b[0m: \"None of ['Facts'] are in the columns\""
     ]
    }
   ],
   "source": [
    "mars_facts = pd.read_html(url)[0]\n",
    "mars_facts.columns=[\"Facts\",\"Values\"]\n",
    "mars_df = mars_facts.set_index([\"Facts\"])\n"
   ]
  },
  {
   "cell_type": "code",
   "execution_count": null,
   "metadata": {},
   "outputs": [],
   "source": [
    "time.sleep(10)\n",
    "# driver.close()"
   ]
  }
 ],
 "metadata": {
  "kernelspec": {
   "display_name": "Python 3",
   "language": "python",
   "name": "python3"
  },
  "language_info": {
   "codemirror_mode": {
    "name": "ipython",
    "version": 3
   },
   "file_extension": ".py",
   "mimetype": "text/x-python",
   "name": "python",
   "nbconvert_exporter": "python",
   "pygments_lexer": "ipython3",
   "version": "3.8.5"
  }
 },
 "nbformat": 4,
 "nbformat_minor": 4
}
